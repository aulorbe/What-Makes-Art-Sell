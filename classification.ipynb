{
 "cells": [
  {
   "cell_type": "code",
   "execution_count": 10,
   "metadata": {},
   "outputs": [],
   "source": [
    "import pandas as pd\n",
    "import numpy as np\n",
    "import matplotlib.pyplot as plt\n",
    "%matplotlib inline\n",
    "import seaborn as sns\n",
    "from sklearn.model_selection import train_test_split, GridSearchCV\n",
    "from sklearn.preprocessing import StandardScaler\n",
    "from sklearn.model_selection import cross_val_score\n",
    "from sklearn.tree import DecisionTreeClassifier\n",
    "from sklearn.ensemble import RandomForestClassifier, AdaBoostClassifier\n",
    "from sklearn.metrics import accuracy_score"
   ]
  },
  {
   "cell_type": "markdown",
   "metadata": {},
   "source": [
    "# Getting sold & unsold dataframes"
   ]
  },
  {
   "cell_type": "code",
   "execution_count": 21,
   "metadata": {},
   "outputs": [],
   "source": [
    "sold_df = pd.read_csv('/Users/flatironschool/Final-Project/final-project/sold_works_df')"
   ]
  },
  {
   "cell_type": "code",
   "execution_count": 25,
   "metadata": {},
   "outputs": [],
   "source": [
    "unsold_df = pd.read_csv('/Users/flatironschool/Final-Project/final-project/unsold_df')"
   ]
  },
  {
   "cell_type": "code",
   "execution_count": 31,
   "metadata": {},
   "outputs": [],
   "source": [
    "unsold_df = unsold_df.dropna()"
   ]
  },
  {
   "cell_type": "code",
   "execution_count": 28,
   "metadata": {},
   "outputs": [],
   "source": [
    "# sold_df = sold_df.drop(columns=['Unnamed: 0', 'vgg16-file-names', 'vgg-preds', 'pca-file-names', 'pca_preds', 'no-pca-file-names', 'no-pca-preds'])"
   ]
  },
  {
   "cell_type": "code",
   "execution_count": 32,
   "metadata": {},
   "outputs": [],
   "source": [
    "sold_df = sold_df.dropna()"
   ]
  },
  {
   "cell_type": "code",
   "execution_count": 33,
   "metadata": {},
   "outputs": [
    {
     "data": {
      "text/plain": [
       "(182, 10)"
      ]
     },
     "execution_count": 33,
     "metadata": {},
     "output_type": "execute_result"
    }
   ],
   "source": [
    "unsold_df.shape"
   ]
  },
  {
   "cell_type": "code",
   "execution_count": 34,
   "metadata": {},
   "outputs": [
    {
     "data": {
      "text/plain": [
       "(338, 13)"
      ]
     },
     "execution_count": 34,
     "metadata": {},
     "output_type": "execute_result"
    }
   ],
   "source": [
    "sold_df.shape"
   ]
  },
  {
   "cell_type": "code",
   "execution_count": 35,
   "metadata": {},
   "outputs": [
    {
     "data": {
      "text/html": [
       "<div>\n",
       "<style scoped>\n",
       "    .dataframe tbody tr th:only-of-type {\n",
       "        vertical-align: middle;\n",
       "    }\n",
       "\n",
       "    .dataframe tbody tr th {\n",
       "        vertical-align: top;\n",
       "    }\n",
       "\n",
       "    .dataframe thead th {\n",
       "        text-align: right;\n",
       "    }\n",
       "</style>\n",
       "<table border=\"1\" class=\"dataframe\">\n",
       "  <thead>\n",
       "    <tr style=\"text-align: right;\">\n",
       "      <th></th>\n",
       "      <th>Unnamed: 0</th>\n",
       "      <th>Artist</th>\n",
       "      <th>File Name</th>\n",
       "      <th>Title</th>\n",
       "      <th>Dimensions</th>\n",
       "      <th>Medium</th>\n",
       "      <th>Height</th>\n",
       "      <th>Width</th>\n",
       "      <th>Size of Piece</th>\n",
       "      <th>Umbrella Medium</th>\n",
       "    </tr>\n",
       "  </thead>\n",
       "  <tbody>\n",
       "    <tr>\n",
       "      <th>0</th>\n",
       "      <td>0</td>\n",
       "      <td>Lorraine Glessner</td>\n",
       "      <td>UNSOLD-GlessnSentientMagnoliaTheGreatSaltLake3...</td>\n",
       "      <td>The Sentient Magnolia &amp; The Great Salt Lake 3</td>\n",
       "      <td>30 x 40 x 1.5</td>\n",
       "      <td>encaustic (pigmented beeswax), collage, mixed ...</td>\n",
       "      <td>30.0</td>\n",
       "      <td>40.0</td>\n",
       "      <td>Small</td>\n",
       "      <td>Other</td>\n",
       "    </tr>\n",
       "    <tr>\n",
       "      <th>1</th>\n",
       "      <td>1</td>\n",
       "      <td>Lorraine Glessner</td>\n",
       "      <td>UNSOLD-GlessnTheSentientMagnoliaGreatSaltLake4...</td>\n",
       "      <td>The Sentient Magnolia &amp; The Great Salt Lake 4</td>\n",
       "      <td>30 x 40 x 1.5</td>\n",
       "      <td>encaustic (pigmented beeswax), collage, pyrogr...</td>\n",
       "      <td>30.0</td>\n",
       "      <td>40.0</td>\n",
       "      <td>Small</td>\n",
       "      <td>Other</td>\n",
       "    </tr>\n",
       "    <tr>\n",
       "      <th>2</th>\n",
       "      <td>2</td>\n",
       "      <td>Lorraine Glessner</td>\n",
       "      <td>UNSOLD-GlessnBetweenSleepAndDreams1_24x24x1.jpg</td>\n",
       "      <td>Between Sleep and Dreams 1</td>\n",
       "      <td>24 x 24 x 1</td>\n",
       "      <td>encaustic (pigmented beeswax), horse hair, gou...</td>\n",
       "      <td>24.0</td>\n",
       "      <td>24.0</td>\n",
       "      <td>Small</td>\n",
       "      <td>Photograph</td>\n",
       "    </tr>\n",
       "    <tr>\n",
       "      <th>3</th>\n",
       "      <td>3</td>\n",
       "      <td>Lorraine Glessner</td>\n",
       "      <td>UNSOLD-GlessnTheSentientMagnoliaGreatSaltLake2...</td>\n",
       "      <td>The Sentient Magnolia &amp; The Great Salt Lake 2</td>\n",
       "      <td>30 x 40 x 1.5</td>\n",
       "      <td>encaustic (pigmented beeswax), collage, mixed ...</td>\n",
       "      <td>30.0</td>\n",
       "      <td>40.0</td>\n",
       "      <td>Small</td>\n",
       "      <td>Other</td>\n",
       "    </tr>\n",
       "    <tr>\n",
       "      <th>4</th>\n",
       "      <td>4</td>\n",
       "      <td>Lorraine Glessner</td>\n",
       "      <td>UNSOLD-GlessnFlirtatiousSuperficiality36x72.jpeg</td>\n",
       "      <td>Flirtatious Superficiality (diptych)</td>\n",
       "      <td>36 x 72 x 1.5</td>\n",
       "      <td>encaustic (pigmented beeswax), horse hair, mix...</td>\n",
       "      <td>36.0</td>\n",
       "      <td>72.0</td>\n",
       "      <td>Medium</td>\n",
       "      <td>Other</td>\n",
       "    </tr>\n",
       "  </tbody>\n",
       "</table>\n",
       "</div>"
      ],
      "text/plain": [
       "   Unnamed: 0             Artist  \\\n",
       "0           0  Lorraine Glessner   \n",
       "1           1  Lorraine Glessner   \n",
       "2           2  Lorraine Glessner   \n",
       "3           3  Lorraine Glessner   \n",
       "4           4  Lorraine Glessner   \n",
       "\n",
       "                                           File Name  \\\n",
       "0  UNSOLD-GlessnSentientMagnoliaTheGreatSaltLake3...   \n",
       "1  UNSOLD-GlessnTheSentientMagnoliaGreatSaltLake4...   \n",
       "2    UNSOLD-GlessnBetweenSleepAndDreams1_24x24x1.jpg   \n",
       "3  UNSOLD-GlessnTheSentientMagnoliaGreatSaltLake2...   \n",
       "4   UNSOLD-GlessnFlirtatiousSuperficiality36x72.jpeg   \n",
       "\n",
       "                                           Title     Dimensions  \\\n",
       "0  The Sentient Magnolia & The Great Salt Lake 3  30 x 40 x 1.5   \n",
       "1  The Sentient Magnolia & The Great Salt Lake 4  30 x 40 x 1.5   \n",
       "2                     Between Sleep and Dreams 1    24 x 24 x 1   \n",
       "3  The Sentient Magnolia & The Great Salt Lake 2  30 x 40 x 1.5   \n",
       "4           Flirtatious Superficiality (diptych)  36 x 72 x 1.5   \n",
       "\n",
       "                                              Medium  Height  Width  \\\n",
       "0  encaustic (pigmented beeswax), collage, mixed ...    30.0   40.0   \n",
       "1  encaustic (pigmented beeswax), collage, pyrogr...    30.0   40.0   \n",
       "2  encaustic (pigmented beeswax), horse hair, gou...    24.0   24.0   \n",
       "3  encaustic (pigmented beeswax), collage, mixed ...    30.0   40.0   \n",
       "4  encaustic (pigmented beeswax), horse hair, mix...    36.0   72.0   \n",
       "\n",
       "  Size of Piece Umbrella Medium  \n",
       "0         Small           Other  \n",
       "1         Small           Other  \n",
       "2         Small      Photograph  \n",
       "3         Small           Other  \n",
       "4        Medium           Other  "
      ]
     },
     "execution_count": 35,
     "metadata": {},
     "output_type": "execute_result"
    }
   ],
   "source": [
    "unsold_df.head()"
   ]
  },
  {
   "cell_type": "code",
   "execution_count": 36,
   "metadata": {},
   "outputs": [
    {
     "data": {
      "text/html": [
       "<div>\n",
       "<style scoped>\n",
       "    .dataframe tbody tr th:only-of-type {\n",
       "        vertical-align: middle;\n",
       "    }\n",
       "\n",
       "    .dataframe tbody tr th {\n",
       "        vertical-align: top;\n",
       "    }\n",
       "\n",
       "    .dataframe thead th {\n",
       "        text-align: right;\n",
       "    }\n",
       "</style>\n",
       "<table border=\"1\" class=\"dataframe\">\n",
       "  <thead>\n",
       "    <tr style=\"text-align: right;\">\n",
       "      <th></th>\n",
       "      <th>File Name</th>\n",
       "      <th>Artist</th>\n",
       "      <th>Title</th>\n",
       "      <th>Dimensions</th>\n",
       "      <th>Media</th>\n",
       "      <th>Date Sold</th>\n",
       "      <th>SOLD/NOT SOLD</th>\n",
       "      <th>Month Sold</th>\n",
       "      <th>Season Sold</th>\n",
       "      <th>Height</th>\n",
       "      <th>Width</th>\n",
       "      <th>Size of Piece</th>\n",
       "      <th>Umbrella Medium</th>\n",
       "    </tr>\n",
       "  </thead>\n",
       "  <tbody>\n",
       "    <tr>\n",
       "      <th>0</th>\n",
       "      <td>SOLD-WhiteUntitledBlueGreyMultiDots25_5x36_75....</td>\n",
       "      <td>Eleanor White</td>\n",
       "      <td>Untitled (Blue/Grey Multi Dots)</td>\n",
       "      <td>25.5 x 36.75 inches (unframed), 28 x 39 inches...</td>\n",
       "      <td>eggshell, emu eggshell, wood ash, glass bead, ...</td>\n",
       "      <td>2017-11-29 00:00:00</td>\n",
       "      <td>SOLD</td>\n",
       "      <td>11</td>\n",
       "      <td>Fall</td>\n",
       "      <td>25.5</td>\n",
       "      <td>36.75</td>\n",
       "      <td>Small</td>\n",
       "      <td>Work on paper</td>\n",
       "    </tr>\n",
       "    <tr>\n",
       "      <th>1</th>\n",
       "      <td>SOLD-WhiteEggshellBrain19_5x13_75SOLD.jpg</td>\n",
       "      <td>Eleanor White</td>\n",
       "      <td>Eggshell Brain</td>\n",
       "      <td>19.5 x 13.75 inches (unframed), 22.75 x 16.5 i...</td>\n",
       "      <td>eggshell and polymer medium on painted paper</td>\n",
       "      <td>2017-04-14 00:00:00</td>\n",
       "      <td>SOLD</td>\n",
       "      <td>4</td>\n",
       "      <td>Spring</td>\n",
       "      <td>19.5</td>\n",
       "      <td>13.75</td>\n",
       "      <td>Small</td>\n",
       "      <td>Work on paper</td>\n",
       "    </tr>\n",
       "    <tr>\n",
       "      <th>2</th>\n",
       "      <td>SOLD-WhiteUntitled_TanCirclesBlackDots19_75x14...</td>\n",
       "      <td>Eleanor White</td>\n",
       "      <td>Untitled (Tan Circles, Black Dots)</td>\n",
       "      <td>19.5 x 13.75 inches (unframed), 22.75 x 16.5 i...</td>\n",
       "      <td>wood ash, eggshell, polymer medium on painted ...</td>\n",
       "      <td>2017-04-14 00:00:00</td>\n",
       "      <td>SOLD</td>\n",
       "      <td>4</td>\n",
       "      <td>Spring</td>\n",
       "      <td>19.5</td>\n",
       "      <td>13.75</td>\n",
       "      <td>Small</td>\n",
       "      <td>Work on paper</td>\n",
       "    </tr>\n",
       "    <tr>\n",
       "      <th>3</th>\n",
       "      <td>SOLD-WhiteGraphMandala005_12x12SOLD.jpg</td>\n",
       "      <td>Eleanor White</td>\n",
       "      <td>Graph Mandala 005</td>\n",
       "      <td>12 x 12 inches (framed)</td>\n",
       "      <td>eggshell, wood ash, glass beads on hygrothermo...</td>\n",
       "      <td>2018-12-08 00:00:00</td>\n",
       "      <td>SOLD</td>\n",
       "      <td>12</td>\n",
       "      <td>Winter</td>\n",
       "      <td>12.0</td>\n",
       "      <td>12.00</td>\n",
       "      <td>Small</td>\n",
       "      <td>Work on paper</td>\n",
       "    </tr>\n",
       "    <tr>\n",
       "      <th>4</th>\n",
       "      <td>SOLD-WhiteUntitledDiptych23_75x17_75eachSOLD.jpeg</td>\n",
       "      <td>Eleanor White</td>\n",
       "      <td>Untitled (Multi Dots) Diptych</td>\n",
       "      <td>24 x 17.75 inches (unframed) (each), 26.75 x 2...</td>\n",
       "      <td>glass beads, wood ash, chicken eggshells and e...</td>\n",
       "      <td>2017-09-30 00:00:00</td>\n",
       "      <td>SOLD</td>\n",
       "      <td>9</td>\n",
       "      <td>Fall</td>\n",
       "      <td>24.0</td>\n",
       "      <td>17.75</td>\n",
       "      <td>Small</td>\n",
       "      <td>Work on paper</td>\n",
       "    </tr>\n",
       "  </tbody>\n",
       "</table>\n",
       "</div>"
      ],
      "text/plain": [
       "                                           File Name         Artist  \\\n",
       "0  SOLD-WhiteUntitledBlueGreyMultiDots25_5x36_75....  Eleanor White   \n",
       "1          SOLD-WhiteEggshellBrain19_5x13_75SOLD.jpg  Eleanor White   \n",
       "2  SOLD-WhiteUntitled_TanCirclesBlackDots19_75x14...  Eleanor White   \n",
       "3            SOLD-WhiteGraphMandala005_12x12SOLD.jpg  Eleanor White   \n",
       "4  SOLD-WhiteUntitledDiptych23_75x17_75eachSOLD.jpeg  Eleanor White   \n",
       "\n",
       "                                Title  \\\n",
       "0     Untitled (Blue/Grey Multi Dots)   \n",
       "1                      Eggshell Brain   \n",
       "2  Untitled (Tan Circles, Black Dots)   \n",
       "3                   Graph Mandala 005   \n",
       "4       Untitled (Multi Dots) Diptych   \n",
       "\n",
       "                                          Dimensions  \\\n",
       "0  25.5 x 36.75 inches (unframed), 28 x 39 inches...   \n",
       "1  19.5 x 13.75 inches (unframed), 22.75 x 16.5 i...   \n",
       "2  19.5 x 13.75 inches (unframed), 22.75 x 16.5 i...   \n",
       "3                            12 x 12 inches (framed)   \n",
       "4  24 x 17.75 inches (unframed) (each), 26.75 x 2...   \n",
       "\n",
       "                                               Media            Date Sold  \\\n",
       "0  eggshell, emu eggshell, wood ash, glass bead, ...  2017-11-29 00:00:00   \n",
       "1       eggshell and polymer medium on painted paper  2017-04-14 00:00:00   \n",
       "2  wood ash, eggshell, polymer medium on painted ...  2017-04-14 00:00:00   \n",
       "3  eggshell, wood ash, glass beads on hygrothermo...  2018-12-08 00:00:00   \n",
       "4  glass beads, wood ash, chicken eggshells and e...  2017-09-30 00:00:00   \n",
       "\n",
       "  SOLD/NOT SOLD  Month Sold Season Sold  Height  Width Size of Piece  \\\n",
       "0          SOLD          11        Fall    25.5  36.75         Small   \n",
       "1          SOLD           4      Spring    19.5  13.75         Small   \n",
       "2          SOLD           4      Spring    19.5  13.75         Small   \n",
       "3          SOLD          12      Winter    12.0  12.00         Small   \n",
       "4          SOLD           9        Fall    24.0  17.75         Small   \n",
       "\n",
       "  Umbrella Medium  \n",
       "0   Work on paper  \n",
       "1   Work on paper  \n",
       "2   Work on paper  \n",
       "3   Work on paper  \n",
       "4   Work on paper  "
      ]
     },
     "execution_count": 36,
     "metadata": {},
     "output_type": "execute_result"
    }
   ],
   "source": [
    "sold_df.head()"
   ]
  },
  {
   "cell_type": "markdown",
   "metadata": {},
   "source": [
    "# Getting k-20 predictions"
   ]
  },
  {
   "cell_type": "code",
   "execution_count": 39,
   "metadata": {},
   "outputs": [],
   "source": [
    "k_20_preds = np.load('/Users/flatironschool/Final-Project/final-project/k-20-df.npy')"
   ]
  },
  {
   "cell_type": "code",
   "execution_count": 40,
   "metadata": {},
   "outputs": [],
   "source": [
    "k_20_preds = pd.DataFrame(k_20_preds)"
   ]
  },
  {
   "cell_type": "code",
   "execution_count": 41,
   "metadata": {},
   "outputs": [
    {
     "data": {
      "text/html": [
       "<div>\n",
       "<style scoped>\n",
       "    .dataframe tbody tr th:only-of-type {\n",
       "        vertical-align: middle;\n",
       "    }\n",
       "\n",
       "    .dataframe tbody tr th {\n",
       "        vertical-align: top;\n",
       "    }\n",
       "\n",
       "    .dataframe thead th {\n",
       "        text-align: right;\n",
       "    }\n",
       "</style>\n",
       "<table border=\"1\" class=\"dataframe\">\n",
       "  <thead>\n",
       "    <tr style=\"text-align: right;\">\n",
       "      <th></th>\n",
       "      <th>0</th>\n",
       "      <th>1</th>\n",
       "    </tr>\n",
       "  </thead>\n",
       "  <tbody>\n",
       "    <tr>\n",
       "      <th>0</th>\n",
       "      <td>SOLD-ParisiShinyStar36x36x2_5HRSOLD.jpg</td>\n",
       "      <td>0</td>\n",
       "    </tr>\n",
       "    <tr>\n",
       "      <th>1</th>\n",
       "      <td>SOLD-StocktWoodlandLandscapeVIIIDiptych6Woodcu...</td>\n",
       "      <td>16</td>\n",
       "    </tr>\n",
       "    <tr>\n",
       "      <th>2</th>\n",
       "      <td>UNSOLD-NeillDEW20x20.jpg</td>\n",
       "      <td>9</td>\n",
       "    </tr>\n",
       "    <tr>\n",
       "      <th>3</th>\n",
       "      <td>SOLD-IMG_4084.jpg</td>\n",
       "      <td>12</td>\n",
       "    </tr>\n",
       "    <tr>\n",
       "      <th>4</th>\n",
       "      <td>SOLD-BattenIndigoAirM1_30x40SMSOLD.jpg</td>\n",
       "      <td>4</td>\n",
       "    </tr>\n",
       "  </tbody>\n",
       "</table>\n",
       "</div>"
      ],
      "text/plain": [
       "                                                   0   1\n",
       "0            SOLD-ParisiShinyStar36x36x2_5HRSOLD.jpg   0\n",
       "1  SOLD-StocktWoodlandLandscapeVIIIDiptych6Woodcu...  16\n",
       "2                           UNSOLD-NeillDEW20x20.jpg   9\n",
       "3                                  SOLD-IMG_4084.jpg  12\n",
       "4             SOLD-BattenIndigoAirM1_30x40SMSOLD.jpg   4"
      ]
     },
     "execution_count": 41,
     "metadata": {},
     "output_type": "execute_result"
    }
   ],
   "source": [
    "k_20_preds.head()"
   ]
  },
  {
   "cell_type": "code",
   "execution_count": 42,
   "metadata": {},
   "outputs": [
    {
     "data": {
      "text/plain": [
       "(1283, 2)"
      ]
     },
     "execution_count": 42,
     "metadata": {},
     "output_type": "execute_result"
    }
   ],
   "source": [
    "k_20_preds.shape"
   ]
  },
  {
   "cell_type": "markdown",
   "metadata": {},
   "source": [
    "# Matching predictions with works"
   ]
  },
  {
   "cell_type": "code",
   "execution_count": 47,
   "metadata": {},
   "outputs": [],
   "source": [
    "# Putting preds with sold_df\n",
    "\n",
    "sold_df = pd.merge(sold_df,k_20_preds, left_on = 'File Name', right_on = 0)"
   ]
  },
  {
   "cell_type": "code",
   "execution_count": 49,
   "metadata": {},
   "outputs": [
    {
     "data": {
      "text/plain": [
       "(338, 15)"
      ]
     },
     "execution_count": 49,
     "metadata": {},
     "output_type": "execute_result"
    }
   ],
   "source": [
    "sold_df.shape"
   ]
  },
  {
   "cell_type": "code",
   "execution_count": 50,
   "metadata": {},
   "outputs": [],
   "source": [
    "unsold_df = pd.merge(unsold_df,k_20_preds, left_on = 'File Name', right_on = 0)"
   ]
  },
  {
   "cell_type": "code",
   "execution_count": 52,
   "metadata": {},
   "outputs": [
    {
     "data": {
      "text/plain": [
       "(152, 12)"
      ]
     },
     "execution_count": 52,
     "metadata": {},
     "output_type": "execute_result"
    }
   ],
   "source": [
    "unsold_df.shape"
   ]
  },
  {
   "cell_type": "code",
   "execution_count": 71,
   "metadata": {},
   "outputs": [],
   "source": [
    "unsold_df.to_csv('unsold_df')"
   ]
  },
  {
   "cell_type": "code",
   "execution_count": 60,
   "metadata": {
    "scrolled": true
   },
   "outputs": [],
   "source": [
    "unsold_df = unsold_df.drop(columns=['Unnamed: 0', 0])"
   ]
  },
  {
   "cell_type": "code",
   "execution_count": 67,
   "metadata": {},
   "outputs": [],
   "source": [
    "sold_label = []\n",
    "\n",
    "for i in range(0,len(unsold_df)):\n",
    "    i = 'UNSOLD'\n",
    "    sold_label.append(i)\n",
    "    \n",
    "unsold_df['SOLD/NOT SOLD'] = sold_label"
   ]
  },
  {
   "cell_type": "code",
   "execution_count": 70,
   "metadata": {},
   "outputs": [],
   "source": [
    "unsold_df = unsold_df.rename(columns={1: 'Clusters'})"
   ]
  },
  {
   "cell_type": "code",
   "execution_count": 78,
   "metadata": {},
   "outputs": [],
   "source": [
    "sold_df.to_csv('sold_df')"
   ]
  },
  {
   "cell_type": "code",
   "execution_count": 63,
   "metadata": {},
   "outputs": [],
   "source": [
    "sold_df = sold_df.drop(columns= ['Date Sold', 'Month Sold', 'Season Sold', 0])"
   ]
  },
  {
   "cell_type": "code",
   "execution_count": 72,
   "metadata": {},
   "outputs": [],
   "source": [
    "sold_df = sold_df.rename(columns={1: 'Clusters'})"
   ]
  },
  {
   "cell_type": "code",
   "execution_count": 75,
   "metadata": {},
   "outputs": [
    {
     "data": {
      "text/html": [
       "<div>\n",
       "<style scoped>\n",
       "    .dataframe tbody tr th:only-of-type {\n",
       "        vertical-align: middle;\n",
       "    }\n",
       "\n",
       "    .dataframe tbody tr th {\n",
       "        vertical-align: top;\n",
       "    }\n",
       "\n",
       "    .dataframe thead th {\n",
       "        text-align: right;\n",
       "    }\n",
       "</style>\n",
       "<table border=\"1\" class=\"dataframe\">\n",
       "  <thead>\n",
       "    <tr style=\"text-align: right;\">\n",
       "      <th></th>\n",
       "      <th>Artist</th>\n",
       "      <th>File Name</th>\n",
       "      <th>Title</th>\n",
       "      <th>Dimensions</th>\n",
       "      <th>Medium</th>\n",
       "      <th>Height</th>\n",
       "      <th>Width</th>\n",
       "      <th>Size of Piece</th>\n",
       "      <th>Umbrella Medium</th>\n",
       "      <th>Clusters</th>\n",
       "      <th>SOLD/NOT SOLD</th>\n",
       "    </tr>\n",
       "  </thead>\n",
       "  <tbody>\n",
       "    <tr>\n",
       "      <th>0</th>\n",
       "      <td>Lorraine Glessner</td>\n",
       "      <td>UNSOLD-GlessnSentientMagnoliaTheGreatSaltLake3...</td>\n",
       "      <td>The Sentient Magnolia &amp; The Great Salt Lake 3</td>\n",
       "      <td>30 x 40 x 1.5</td>\n",
       "      <td>encaustic (pigmented beeswax), collage, mixed ...</td>\n",
       "      <td>30.0</td>\n",
       "      <td>40.0</td>\n",
       "      <td>Small</td>\n",
       "      <td>Other</td>\n",
       "      <td>0</td>\n",
       "      <td>UNSOLD</td>\n",
       "    </tr>\n",
       "    <tr>\n",
       "      <th>1</th>\n",
       "      <td>Lorraine Glessner</td>\n",
       "      <td>UNSOLD-GlessnTheSentientMagnoliaGreatSaltLake4...</td>\n",
       "      <td>The Sentient Magnolia &amp; The Great Salt Lake 4</td>\n",
       "      <td>30 x 40 x 1.5</td>\n",
       "      <td>encaustic (pigmented beeswax), collage, pyrogr...</td>\n",
       "      <td>30.0</td>\n",
       "      <td>40.0</td>\n",
       "      <td>Small</td>\n",
       "      <td>Other</td>\n",
       "      <td>0</td>\n",
       "      <td>UNSOLD</td>\n",
       "    </tr>\n",
       "  </tbody>\n",
       "</table>\n",
       "</div>"
      ],
      "text/plain": [
       "              Artist                                          File Name  \\\n",
       "0  Lorraine Glessner  UNSOLD-GlessnSentientMagnoliaTheGreatSaltLake3...   \n",
       "1  Lorraine Glessner  UNSOLD-GlessnTheSentientMagnoliaGreatSaltLake4...   \n",
       "\n",
       "                                           Title     Dimensions  \\\n",
       "0  The Sentient Magnolia & The Great Salt Lake 3  30 x 40 x 1.5   \n",
       "1  The Sentient Magnolia & The Great Salt Lake 4  30 x 40 x 1.5   \n",
       "\n",
       "                                              Medium  Height  Width  \\\n",
       "0  encaustic (pigmented beeswax), collage, mixed ...    30.0   40.0   \n",
       "1  encaustic (pigmented beeswax), collage, pyrogr...    30.0   40.0   \n",
       "\n",
       "  Size of Piece Umbrella Medium Clusters SOLD/NOT SOLD  \n",
       "0         Small           Other        0        UNSOLD  \n",
       "1         Small           Other        0        UNSOLD  "
      ]
     },
     "execution_count": 75,
     "metadata": {},
     "output_type": "execute_result"
    }
   ],
   "source": [
    "unsold_df[:2]"
   ]
  },
  {
   "cell_type": "code",
   "execution_count": 77,
   "metadata": {},
   "outputs": [],
   "source": [
    "sold_df = sold_df.rename(columns={'Media': 'Medium'})"
   ]
  },
  {
   "cell_type": "code",
   "execution_count": 79,
   "metadata": {
    "scrolled": true
   },
   "outputs": [
    {
     "data": {
      "text/html": [
       "<div>\n",
       "<style scoped>\n",
       "    .dataframe tbody tr th:only-of-type {\n",
       "        vertical-align: middle;\n",
       "    }\n",
       "\n",
       "    .dataframe tbody tr th {\n",
       "        vertical-align: top;\n",
       "    }\n",
       "\n",
       "    .dataframe thead th {\n",
       "        text-align: right;\n",
       "    }\n",
       "</style>\n",
       "<table border=\"1\" class=\"dataframe\">\n",
       "  <thead>\n",
       "    <tr style=\"text-align: right;\">\n",
       "      <th></th>\n",
       "      <th>File Name</th>\n",
       "      <th>Artist</th>\n",
       "      <th>Title</th>\n",
       "      <th>Dimensions</th>\n",
       "      <th>Medium</th>\n",
       "      <th>SOLD/NOT SOLD</th>\n",
       "      <th>Height</th>\n",
       "      <th>Width</th>\n",
       "      <th>Size of Piece</th>\n",
       "      <th>Umbrella Medium</th>\n",
       "      <th>Clusters</th>\n",
       "    </tr>\n",
       "  </thead>\n",
       "  <tbody>\n",
       "    <tr>\n",
       "      <th>0</th>\n",
       "      <td>SOLD-WhiteUntitledBlueGreyMultiDots25_5x36_75....</td>\n",
       "      <td>Eleanor White</td>\n",
       "      <td>Untitled (Blue/Grey Multi Dots)</td>\n",
       "      <td>25.5 x 36.75 inches (unframed), 28 x 39 inches...</td>\n",
       "      <td>eggshell, emu eggshell, wood ash, glass bead, ...</td>\n",
       "      <td>SOLD</td>\n",
       "      <td>25.5</td>\n",
       "      <td>36.75</td>\n",
       "      <td>Small</td>\n",
       "      <td>Work on paper</td>\n",
       "      <td>9</td>\n",
       "    </tr>\n",
       "    <tr>\n",
       "      <th>1</th>\n",
       "      <td>SOLD-WhiteEggshellBrain19_5x13_75SOLD.jpg</td>\n",
       "      <td>Eleanor White</td>\n",
       "      <td>Eggshell Brain</td>\n",
       "      <td>19.5 x 13.75 inches (unframed), 22.75 x 16.5 i...</td>\n",
       "      <td>eggshell and polymer medium on painted paper</td>\n",
       "      <td>SOLD</td>\n",
       "      <td>19.5</td>\n",
       "      <td>13.75</td>\n",
       "      <td>Small</td>\n",
       "      <td>Work on paper</td>\n",
       "      <td>4</td>\n",
       "    </tr>\n",
       "  </tbody>\n",
       "</table>\n",
       "</div>"
      ],
      "text/plain": [
       "                                           File Name         Artist  \\\n",
       "0  SOLD-WhiteUntitledBlueGreyMultiDots25_5x36_75....  Eleanor White   \n",
       "1          SOLD-WhiteEggshellBrain19_5x13_75SOLD.jpg  Eleanor White   \n",
       "\n",
       "                             Title  \\\n",
       "0  Untitled (Blue/Grey Multi Dots)   \n",
       "1                   Eggshell Brain   \n",
       "\n",
       "                                          Dimensions  \\\n",
       "0  25.5 x 36.75 inches (unframed), 28 x 39 inches...   \n",
       "1  19.5 x 13.75 inches (unframed), 22.75 x 16.5 i...   \n",
       "\n",
       "                                              Medium SOLD/NOT SOLD  Height  \\\n",
       "0  eggshell, emu eggshell, wood ash, glass bead, ...          SOLD    25.5   \n",
       "1       eggshell and polymer medium on painted paper          SOLD    19.5   \n",
       "\n",
       "   Width Size of Piece Umbrella Medium Clusters  \n",
       "0  36.75         Small   Work on paper        9  \n",
       "1  13.75         Small   Work on paper        4  "
      ]
     },
     "execution_count": 79,
     "metadata": {},
     "output_type": "execute_result"
    }
   ],
   "source": [
    "sold_df[:2]"
   ]
  },
  {
   "cell_type": "markdown",
   "metadata": {},
   "source": [
    "# Concatenating sold & unsold dataframes into one"
   ]
  },
  {
   "cell_type": "code",
   "execution_count": 85,
   "metadata": {},
   "outputs": [],
   "source": [
    "together_df = pd.concat([sold_df, unsold_df], sort=False)"
   ]
  },
  {
   "cell_type": "code",
   "execution_count": 86,
   "metadata": {},
   "outputs": [
    {
     "data": {
      "text/plain": [
       "(490, 11)"
      ]
     },
     "execution_count": 86,
     "metadata": {},
     "output_type": "execute_result"
    }
   ],
   "source": [
    "together_df.shape"
   ]
  },
  {
   "cell_type": "code",
   "execution_count": 170,
   "metadata": {},
   "outputs": [],
   "source": [
    "together_df.to_csv('together_df')"
   ]
  },
  {
   "cell_type": "markdown",
   "metadata": {},
   "source": [
    "# Preparing data for classification analysis"
   ]
  },
  {
   "cell_type": "markdown",
   "metadata": {},
   "source": [
    "## Taking care of categorical variables"
   ]
  },
  {
   "cell_type": "code",
   "execution_count": 155,
   "metadata": {},
   "outputs": [],
   "source": [
    "from sklearn.preprocessing import LabelBinarizer\n",
    "\n",
    "artist_lb = LabelBinarizer()\n",
    "file_lb = LabelBinarizer()\n",
    "size_lb = LabelBinarizer()\n",
    "medium_lb = LabelBinarizer()\n",
    "\n",
    "artist_dummies = artist_lb.fit_transform(together_df.Artist)\n",
    "file_dummies = file_lb.fit_transform(together_df['File Name'])\n",
    "size_dummies = size_lb.fit_transform(together_df['Size of Piece'])\n",
    "medium_dummies = medium_lb.fit_transform(together_df['Umbrella Medium'])\n",
    "\n",
    "artist_dum_df = pd.DataFrame(artist_dummies,columns=artist_lb.classes_)\n",
    "file_dum_df = pd.DataFrame(file_dummies,columns=file_lb.classes_)\n",
    "size_dum_df = pd.DataFrame(size_dummies,columns=size_lb.classes_)\n",
    "medium_dum_df = pd.DataFrame(medium_dummies,columns=medium_lb.classes_)"
   ]
  },
  {
   "cell_type": "code",
   "execution_count": 161,
   "metadata": {},
   "outputs": [],
   "source": [
    "a = artist_dum_df.join(file_dum_df)\n",
    "b = a.join(size_dum_df)\n",
    "c = b.join(medium_dum_df)"
   ]
  },
  {
   "cell_type": "code",
   "execution_count": 165,
   "metadata": {},
   "outputs": [],
   "source": [
    "together_df = together_df.join(c, lsuffix='L-')"
   ]
  },
  {
   "cell_type": "code",
   "execution_count": 168,
   "metadata": {},
   "outputs": [],
   "source": [
    "together_df = together_df.drop(columns=['Title', 'Dimensions', 'MediumL-','Size of Piece', 'Artist', 'Umbrella Medium', 'File Name'])"
   ]
  },
  {
   "cell_type": "code",
   "execution_count": null,
   "metadata": {},
   "outputs": [],
   "source": []
  },
  {
   "cell_type": "code",
   "execution_count": null,
   "metadata": {},
   "outputs": [],
   "source": []
  },
  {
   "cell_type": "code",
   "execution_count": null,
   "metadata": {},
   "outputs": [],
   "source": []
  },
  {
   "cell_type": "code",
   "execution_count": null,
   "metadata": {},
   "outputs": [],
   "source": []
  },
  {
   "cell_type": "code",
   "execution_count": null,
   "metadata": {},
   "outputs": [],
   "source": []
  },
  {
   "cell_type": "code",
   "execution_count": null,
   "metadata": {},
   "outputs": [],
   "source": []
  },
  {
   "cell_type": "code",
   "execution_count": null,
   "metadata": {},
   "outputs": [],
   "source": []
  },
  {
   "cell_type": "code",
   "execution_count": null,
   "metadata": {},
   "outputs": [],
   "source": []
  },
  {
   "cell_type": "code",
   "execution_count": null,
   "metadata": {},
   "outputs": [],
   "source": [
    "#  since we'll be making use of Cross Validation when using GridSearchCV, we don't need to split data into train & test sets"
   ]
  },
  {
   "cell_type": "code",
   "execution_count": null,
   "metadata": {},
   "outputs": [],
   "source": []
  },
  {
   "cell_type": "code",
   "execution_count": null,
   "metadata": {},
   "outputs": [],
   "source": []
  },
  {
   "cell_type": "code",
   "execution_count": null,
   "metadata": {},
   "outputs": [],
   "source": []
  },
  {
   "cell_type": "code",
   "execution_count": null,
   "metadata": {},
   "outputs": [],
   "source": []
  }
 ],
 "metadata": {
  "kernelspec": {
   "display_name": "Python 3",
   "language": "python",
   "name": "python3"
  },
  "language_info": {
   "codemirror_mode": {
    "name": "ipython",
    "version": 3
   },
   "file_extension": ".py",
   "mimetype": "text/x-python",
   "name": "python",
   "nbconvert_exporter": "python",
   "pygments_lexer": "ipython3",
   "version": "3.6.5"
  },
  "toc": {
   "base_numbering": 1,
   "nav_menu": {},
   "number_sections": false,
   "sideBar": true,
   "skip_h1_title": false,
   "title_cell": "Table of Contents",
   "title_sidebar": "Contents",
   "toc_cell": false,
   "toc_position": {},
   "toc_section_display": true,
   "toc_window_display": false
  }
 },
 "nbformat": 4,
 "nbformat_minor": 2
}
