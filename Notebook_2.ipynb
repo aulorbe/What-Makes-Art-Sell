{
 "cells": [
  {
   "cell_type": "markdown",
   "metadata": {},
   "source": [
    "# Turning Invoices for Unsold Works into .txt Files"
   ]
  },
  {
   "cell_type": "code",
   "execution_count": 1,
   "metadata": {},
   "outputs": [],
   "source": [
    "# Turn Word docs into .txt files\n",
    "\n",
    "import os\n",
    "\n",
    "for file in os.listdir('/Users/flatironschool/Final-Project/Invoices_NOTSOLD/WordDocs'):\n",
    "\n",
    "    os.system(f'/Applications/LibreOffice.app/Contents/MacOS/soffice --headless --convert-to txt:Text /Users/flatironschool/Final-Project/Invoices_NOTSOLD/WordDocs/{file} --outdir /Users/flatironschool/Final-Project/Invoices_NOTSOLD/WordDocsToText')\n",
    "    "
   ]
  },
  {
   "cell_type": "code",
   "execution_count": 2,
   "metadata": {},
   "outputs": [],
   "source": [
    "# Turning PDFs into .txt files\n",
    "\n",
    "file_names = []\n",
    "\n",
    "for file in os.listdir('/Users/flatironschool/Final-Project/Invoices_NOTSOLD/PDFs'):\n",
    "    file_names.append(file)\n",
    "\n",
    "for file in file_names:\n",
    "    os.system(f'pdf2txt.py -o {file}.txt /Users/flatironschool/Final-Project/Invoices_NOTSOLD/PDFs/{file}')\n"
   ]
  },
  {
   "cell_type": "code",
   "execution_count": null,
   "metadata": {},
   "outputs": [],
   "source": []
  },
  {
   "cell_type": "markdown",
   "metadata": {},
   "source": [
    "# Manually inputting data?"
   ]
  },
  {
   "cell_type": "code",
   "execution_count": 28,
   "metadata": {},
   "outputs": [],
   "source": [
    "artist = []\n",
    "dim = []\n",
    "med = []\n",
    "title = []\n"
   ]
  },
  {
   "cell_type": "code",
   "execution_count": 57,
   "metadata": {},
   "outputs": [],
   "source": [
    "unsold_df = {'Artist': artist, 'Dimensions': dim, 'Media': med, 'Title': title}"
   ]
  },
  {
   "cell_type": "code",
   "execution_count": 58,
   "metadata": {},
   "outputs": [],
   "source": [
    "import pandas as pd\n",
    "\n",
    "test = pd.DataFrame(unsold_df)"
   ]
  },
  {
   "cell_type": "code",
   "execution_count": 59,
   "metadata": {},
   "outputs": [
    {
     "data": {
      "text/html": [
       "<div>\n",
       "<style scoped>\n",
       "    .dataframe tbody tr th:only-of-type {\n",
       "        vertical-align: middle;\n",
       "    }\n",
       "\n",
       "    .dataframe tbody tr th {\n",
       "        vertical-align: top;\n",
       "    }\n",
       "\n",
       "    .dataframe thead th {\n",
       "        text-align: right;\n",
       "    }\n",
       "</style>\n",
       "<table border=\"1\" class=\"dataframe\">\n",
       "  <thead>\n",
       "    <tr style=\"text-align: right;\">\n",
       "      <th></th>\n",
       "      <th>Artist</th>\n",
       "      <th>Dimensions</th>\n",
       "      <th>Media</th>\n",
       "      <th>Title</th>\n",
       "    </tr>\n",
       "  </thead>\n",
       "  <tbody>\n",
       "    <tr>\n",
       "      <th>0</th>\n",
       "      <td>[Smith, Smith]</td>\n",
       "      <td>[30 x 40, 30 x 40]</td>\n",
       "      <td>[oil on canvas, oil on canvas]</td>\n",
       "      <td>[Asian Touch, The Piano Room]</td>\n",
       "    </tr>\n",
       "    <tr>\n",
       "      <th>1</th>\n",
       "      <td>[Smith, Smith]</td>\n",
       "      <td>[30 x 40, 30 x 40]</td>\n",
       "      <td>[oil on canvas, oil on canvas]</td>\n",
       "      <td>[Asian Touch, The Piano Room]</td>\n",
       "    </tr>\n",
       "    <tr>\n",
       "      <th>2</th>\n",
       "      <td>[Smith]</td>\n",
       "      <td>[30 x 40]</td>\n",
       "      <td>[oil on canvas]</td>\n",
       "      <td>[Asian Touch]</td>\n",
       "    </tr>\n",
       "    <tr>\n",
       "      <th>3</th>\n",
       "      <td>Smith</td>\n",
       "      <td>30 x 40</td>\n",
       "      <td>oil on canvas</td>\n",
       "      <td>Asian Touch</td>\n",
       "    </tr>\n",
       "    <tr>\n",
       "      <th>4</th>\n",
       "      <td>Smith</td>\n",
       "      <td>30 x 40</td>\n",
       "      <td>oil on canvas</td>\n",
       "      <td>Asian Touch</td>\n",
       "    </tr>\n",
       "    <tr>\n",
       "      <th>5</th>\n",
       "      <td>Smith</td>\n",
       "      <td>30 x 40</td>\n",
       "      <td>oil on canvas</td>\n",
       "      <td>Asian Touch</td>\n",
       "    </tr>\n",
       "    <tr>\n",
       "      <th>6</th>\n",
       "      <td>Smith</td>\n",
       "      <td>30 x 40</td>\n",
       "      <td>oil on canvas</td>\n",
       "      <td>Asian Touch</td>\n",
       "    </tr>\n",
       "    <tr>\n",
       "      <th>7</th>\n",
       "      <td>Smith</td>\n",
       "      <td>30 x 40</td>\n",
       "      <td>oil on canvas</td>\n",
       "      <td>Asian Touch</td>\n",
       "    </tr>\n",
       "  </tbody>\n",
       "</table>\n",
       "</div>"
      ],
      "text/plain": [
       "           Artist          Dimensions                           Media  \\\n",
       "0  [Smith, Smith]  [30 x 40, 30 x 40]  [oil on canvas, oil on canvas]   \n",
       "1  [Smith, Smith]  [30 x 40, 30 x 40]  [oil on canvas, oil on canvas]   \n",
       "2         [Smith]           [30 x 40]                 [oil on canvas]   \n",
       "3           Smith             30 x 40                   oil on canvas   \n",
       "4           Smith             30 x 40                   oil on canvas   \n",
       "5           Smith             30 x 40                   oil on canvas   \n",
       "6           Smith             30 x 40                   oil on canvas   \n",
       "7           Smith             30 x 40                   oil on canvas   \n",
       "\n",
       "                           Title  \n",
       "0  [Asian Touch, The Piano Room]  \n",
       "1  [Asian Touch, The Piano Room]  \n",
       "2                  [Asian Touch]  \n",
       "3                    Asian Touch  \n",
       "4                    Asian Touch  \n",
       "5                    Asian Touch  \n",
       "6                    Asian Touch  \n",
       "7                    Asian Touch  "
      ]
     },
     "execution_count": 59,
     "metadata": {},
     "output_type": "execute_result"
    }
   ],
   "source": [
    "test"
   ]
  },
  {
   "cell_type": "code",
   "execution_count": 52,
   "metadata": {},
   "outputs": [],
   "source": [
    "smith_artist = 'Smith'\n",
    "smith_titles = 'Asian Touch'\n",
    "smith_dims = '30 x 40'\n",
    "smith_med = 'oil on canvas'\n"
   ]
  },
  {
   "cell_type": "code",
   "execution_count": 39,
   "metadata": {},
   "outputs": [],
   "source": [
    "smith_work_1 = ['Smith', 'Asian Touch', '30 x 40', 'oil on canvas']"
   ]
  },
  {
   "cell_type": "code",
   "execution_count": 56,
   "metadata": {},
   "outputs": [],
   "source": [
    "for i in range(0,len(smith_artist)): \n",
    "    artist.append(smith_artist)\n",
    "    dim.append(smith_dims)\n",
    "    med.append(smith_med)\n",
    "    title.append(smith_titles)"
   ]
  },
  {
   "cell_type": "code",
   "execution_count": null,
   "metadata": {},
   "outputs": [],
   "source": []
  }
 ],
 "metadata": {
  "kernelspec": {
   "display_name": "Python 3",
   "language": "python",
   "name": "python3"
  },
  "language_info": {
   "codemirror_mode": {
    "name": "ipython",
    "version": 3
   },
   "file_extension": ".py",
   "mimetype": "text/x-python",
   "name": "python",
   "nbconvert_exporter": "python",
   "pygments_lexer": "ipython3",
   "version": "3.6.5"
  },
  "toc": {
   "base_numbering": 1,
   "nav_menu": {},
   "number_sections": false,
   "sideBar": true,
   "skip_h1_title": false,
   "title_cell": "Table of Contents",
   "title_sidebar": "Contents",
   "toc_cell": false,
   "toc_position": {
    "height": "calc(100% - 180px)",
    "left": "10px",
    "top": "150px",
    "width": "262px"
   },
   "toc_section_display": true,
   "toc_window_display": false
  }
 },
 "nbformat": 4,
 "nbformat_minor": 2
}
