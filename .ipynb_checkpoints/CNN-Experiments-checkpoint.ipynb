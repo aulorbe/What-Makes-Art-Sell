{
 "cells": [
  {
   "cell_type": "code",
   "execution_count": 2,
   "metadata": {},
   "outputs": [],
   "source": [
    "import os, shutil"
   ]
  },
  {
   "cell_type": "code",
   "execution_count": 3,
   "metadata": {},
   "outputs": [],
   "source": [
    "path_notsold_dir = '/Users/flatironschool/Final-Project/All-Images-NOTSOLD'\n",
    "path_sold_dir = '/Users/flatironschool/Final-Project/All-Images-SOLD/'\n",
    "path_new_dir = '/Users/flatironschool/Final-Project/split/'"
   ]
  },
  {
   "cell_type": "code",
   "execution_count": 4,
   "metadata": {},
   "outputs": [],
   "source": [
    "imgs_sold = [file for file in os.listdir(path_sold_dir) if file.endswith('.jpg') or file.endswith('.jpeg') or file.endswith('.JPG')]\n"
   ]
  },
  {
   "cell_type": "code",
   "execution_count": 5,
   "metadata": {},
   "outputs": [
    {
     "data": {
      "text/plain": [
       "1078"
      ]
     },
     "execution_count": 5,
     "metadata": {},
     "output_type": "execute_result"
    }
   ],
   "source": [
    "len(imgs_sold)"
   ]
  },
  {
   "cell_type": "code",
   "execution_count": 24,
   "metadata": {},
   "outputs": [],
   "source": [
    "# Getting rid of spaces in file names of unsold works\n",
    "\n",
    "# path =  '/Users/flatironschool/Final-Project/All-Images-NOTSOLD/'\n",
    "\n",
    "# filenames = os.listdir('/Users/flatironschool/Final-Project/All-Images-NOTSOLD')\n",
    "\n",
    "# for filename in filenames:\n",
    "#     os.rename(os.path.join(path + filename), os.path.join(path + filename.replace(\" \", \"-\")))\n"
   ]
  },
  {
   "cell_type": "code",
   "execution_count": 6,
   "metadata": {},
   "outputs": [],
   "source": [
    "imgs_notsold = [file for file in os.listdir(path_notsold_dir) if file.endswith('.jpg') or file.endswith('.jpeg') or file.endswith('.JPG')]\n"
   ]
  },
  {
   "cell_type": "code",
   "execution_count": 7,
   "metadata": {},
   "outputs": [
    {
     "data": {
      "text/plain": [
       "193"
      ]
     },
     "execution_count": 7,
     "metadata": {},
     "output_type": "execute_result"
    }
   ],
   "source": [
    "len(imgs_notsold)"
   ]
  },
  {
   "cell_type": "code",
   "execution_count": 21,
   "metadata": {},
   "outputs": [],
   "source": [
    "# os.mkdir(path_new_dir)"
   ]
  },
  {
   "cell_type": "code",
   "execution_count": 10,
   "metadata": {},
   "outputs": [],
   "source": [
    "train_folder = os.path.join(path_new_dir, 'train')\n",
    "train_sold = os.path.join(train_folder, 'SOLD')\n",
    "train_notsold = os.path.join(train_folder, 'NOT-SOLD')\n",
    "\n",
    "test_folder = os.path.join(path_new_dir, 'test')\n",
    "test_sold = os.path.join(test_folder, 'SOLD')\n",
    "test_notsold = os.path.join(test_folder, 'NOT-SOLD')\n",
    "\n",
    "val_folder = os.path.join(path_new_dir, 'validation')\n",
    "val_sold = os.path.join(val_folder, 'SOLD')\n",
    "val_notsold = os.path.join(val_folder, 'NOT-SOLD')"
   ]
  },
  {
   "cell_type": "code",
   "execution_count": 12,
   "metadata": {},
   "outputs": [
    {
     "data": {
      "text/plain": [
       "'/Users/flatironschool/Final-Project/split/train/SOLD'"
      ]
     },
     "execution_count": 12,
     "metadata": {},
     "output_type": "execute_result"
    }
   ],
   "source": [
    "train_sold"
   ]
  },
  {
   "cell_type": "code",
   "execution_count": 13,
   "metadata": {},
   "outputs": [],
   "source": [
    "os.mkdir(test_folder)\n",
    "os.mkdir(test_sold)\n",
    "os.mkdir(test_notsold)\n",
    "\n",
    "os.mkdir(train_folder)\n",
    "os.mkdir(train_sold)\n",
    "os.mkdir(train_notsold)\n",
    "\n",
    "os.mkdir(val_folder)\n",
    "os.mkdir(val_sold)\n",
    "os.mkdir(val_notsold)"
   ]
  },
  {
   "cell_type": "code",
   "execution_count": 23,
   "metadata": {},
   "outputs": [],
   "source": [
    "# 1078 sold images = 593 images in train ; 323 in validate ; 162 in test\n",
    "# 193 unsold images = 106 in train ; 58 in validation ; 29 in test\n",
    "\n",
    "# Percentage breakdown (train, validate, test) = 55% - 30% - 15%\n"
   ]
  },
  {
   "cell_type": "code",
   "execution_count": 40,
   "metadata": {},
   "outputs": [],
   "source": [
    "# Training for sold images\n",
    "\n",
    "sold_imgs = imgs_sold[:593]\n",
    "for img in sold_imgs:\n",
    "    origin = os.path.join(path_sold_dir, img)\n",
    "    destination = os.path.join(train_sold, img)\n",
    "    shutil.copyfile(origin, destination)"
   ]
  },
  {
   "cell_type": "code",
   "execution_count": 41,
   "metadata": {},
   "outputs": [],
   "source": [
    "# Training for unsold images\n",
    "\n",
    "unsold_imgs = imgs_notsold[:106]\n",
    "for img in unsold_imgs:\n",
    "    origin = os.path.join(path_notsold_dir, img)\n",
    "    destination = os.path.join(train_notsold, img)\n",
    "    shutil.copyfile(origin, destination)\n"
   ]
  },
  {
   "cell_type": "code",
   "execution_count": 42,
   "metadata": {},
   "outputs": [],
   "source": [
    "# Validation for sold images\n",
    "\n",
    "sold_imgs = imgs_sold[593:916]\n",
    "for img in sold_imgs:\n",
    "    origin = os.path.join(path_sold_dir, img)\n",
    "    destination = os.path.join(val_sold, img)\n",
    "    shutil.copyfile(origin, destination)\n"
   ]
  },
  {
   "cell_type": "code",
   "execution_count": 43,
   "metadata": {},
   "outputs": [],
   "source": [
    "# Validation for unsold images\n",
    "\n",
    "unsold_imgs = imgs_notsold[106:164]\n",
    "for img in unsold_imgs:\n",
    "    origin = os.path.join(path_notsold_dir, img)\n",
    "    destination = os.path.join(val_notsold, img)\n",
    "    shutil.copyfile(origin, destination)"
   ]
  },
  {
   "cell_type": "code",
   "execution_count": 44,
   "metadata": {},
   "outputs": [],
   "source": [
    "# Test for sold images\n",
    "\n",
    "sold_imgs = imgs_sold[916:]\n",
    "for img in sold_imgs:\n",
    "    origin = os.path.join(path_sold_dir, img)\n",
    "    destination = os.path.join(test_sold, img)\n",
    "    shutil.copyfile(origin, destination)"
   ]
  },
  {
   "cell_type": "code",
   "execution_count": 45,
   "metadata": {},
   "outputs": [],
   "source": [
    "# Test for unsold images\n",
    "\n",
    "unsold_imgs = imgs_notsold[164:]\n",
    "for img in unsold_imgs:\n",
    "    origin = os.path.join(path_notsold_dir, img)\n",
    "    destination = os.path.join(test_notsold, img)\n",
    "    shutil.copyfile(origin, destination)"
   ]
  },
  {
   "cell_type": "code",
   "execution_count": 8,
   "metadata": {},
   "outputs": [
    {
     "name": "stderr",
     "output_type": "stream",
     "text": [
      "/Users/flatironschool/anaconda3/lib/python3.6/site-packages/h5py/__init__.py:36: FutureWarning: Conversion of the second argument of issubdtype from `float` to `np.floating` is deprecated. In future, it will be treated as `np.float64 == np.dtype(float).type`.\n",
      "  from ._conv import register_converters as _register_converters\n",
      "Using TensorFlow backend.\n",
      "/Users/flatironschool/anaconda3/lib/python3.6/site-packages/requests/__init__.py:80: RequestsDependencyWarning: urllib3 (1.22) or chardet (2.3.0) doesn't match a supported version!\n",
      "  RequestsDependencyWarning)\n"
     ]
    }
   ],
   "source": [
    "import time\n",
    "import matplotlib.pyplot as plt\n",
    "import scipy\n",
    "import numpy as np\n",
    "from PIL import Image\n",
    "from scipy import ndimage\n",
    "from keras.preprocessing.image import ImageDataGenerator, array_to_img, img_to_array, load_img\n",
    "\n",
    "np.random.seed(123)"
   ]
  },
  {
   "cell_type": "code",
   "execution_count": 11,
   "metadata": {},
   "outputs": [
    {
     "name": "stdout",
     "output_type": "stream",
     "text": [
      "Found 191 images belonging to 2 classes.\n",
      "Found 381 images belonging to 2 classes.\n",
      "Found 699 images belonging to 2 classes.\n"
     ]
    }
   ],
   "source": [
    "# get all the data in the directory split/test and reshape them\n",
    "test_generator = ImageDataGenerator(rescale=1./255).flow_from_directory(\n",
    "        test_folder, \n",
    "        target_size=(64, 64), batch_size = 194) \n",
    "\n",
    "# get all the data in the directory split/validation and reshape them\n",
    "val_generator = ImageDataGenerator(rescale=1./255).flow_from_directory(\n",
    "        val_folder, \n",
    "        target_size=(64, 64), batch_size = 384)\n",
    "\n",
    "# get all the data in the directory split/train and reshape them\n",
    "train_generator = ImageDataGenerator(rescale=1./255).flow_from_directory(\n",
    "        train_folder, \n",
    "        target_size=(64, 64), batch_size=702)"
   ]
  },
  {
   "cell_type": "code",
   "execution_count": 12,
   "metadata": {},
   "outputs": [],
   "source": [
    "# create the data sets\n",
    "train_images, train_labels = next(train_generator)\n",
    "test_images, test_labels = next(test_generator)\n",
    "val_images, val_labels = next(val_generator)"
   ]
  },
  {
   "cell_type": "code",
   "execution_count": 13,
   "metadata": {},
   "outputs": [
    {
     "name": "stdout",
     "output_type": "stream",
     "text": [
      "Number of training samples: 699\n",
      "Number of testing samples: 191\n",
      "Number of validation samples: 381\n",
      "train_images shape: (699, 64, 64, 3)\n",
      "train_labels shape: (699, 2)\n",
      "test_images shape: (191, 64, 64, 3)\n",
      "test_labels shape: (191, 2)\n",
      "val_images shape: (381, 64, 64, 3)\n",
      "val_labels shape: (381, 2)\n"
     ]
    }
   ],
   "source": [
    "m_train = train_images.shape[0]\n",
    "num_px = train_images.shape[1]\n",
    "m_test = test_images.shape[0]\n",
    "m_val = val_images.shape[0]\n",
    "\n",
    "print (\"Number of training samples: \" + str(m_train))\n",
    "print (\"Number of testing samples: \" + str(m_test))\n",
    "print (\"Number of validation samples: \" + str(m_val))\n",
    "print (\"train_images shape: \" + str(train_images.shape))\n",
    "print (\"train_labels shape: \" + str(train_labels.shape))\n",
    "print (\"test_images shape: \" + str(test_images.shape))\n",
    "print (\"test_labels shape: \" + str(test_labels.shape))\n",
    "print (\"val_images shape: \" + str(val_images.shape))\n",
    "print (\"val_labels shape: \" + str(val_labels.shape))"
   ]
  },
  {
   "cell_type": "code",
   "execution_count": 14,
   "metadata": {},
   "outputs": [
    {
     "name": "stdout",
     "output_type": "stream",
     "text": [
      "(699, 12288)\n",
      "(191, 12288)\n",
      "(381, 12288)\n"
     ]
    }
   ],
   "source": [
    "train_img = train_images.reshape(train_images.shape[0], -1)\n",
    "test_img = test_images.reshape(test_images.shape[0], -1)\n",
    "val_img = val_images.reshape(val_images.shape[0], -1)\n",
    "\n",
    "print(train_img.shape)\n",
    "print(test_img.shape)\n",
    "print(val_img.shape)"
   ]
  },
  {
   "cell_type": "code",
   "execution_count": 17,
   "metadata": {},
   "outputs": [],
   "source": [
    "train_y = np.reshape(train_labels[:,0], (699,1))\n",
    "test_y = np.reshape(test_labels[:,0], (191,1))\n",
    "val_y = np.reshape(val_labels[:,0], (381,1))"
   ]
  },
  {
   "cell_type": "code",
   "execution_count": 18,
   "metadata": {},
   "outputs": [],
   "source": [
    "from keras import models\n",
    "from keras import layers\n",
    "\n",
    "np.random.seed(123)\n",
    "\n",
    "model = models.Sequential()\n",
    "\n",
    "model.add(layers.Dense(20, activation='relu', input_shape=(12288,))) #2 hidden layers\n",
    "model.add(layers.Dense(7, activation='relu'))\n",
    "model.add(layers.Dense(5, activation='relu'))\n",
    "model.add(layers.Dense(1, activation='sigmoid'))"
   ]
  },
  {
   "cell_type": "code",
   "execution_count": 19,
   "metadata": {},
   "outputs": [
    {
     "name": "stdout",
     "output_type": "stream",
     "text": [
      "Train on 699 samples, validate on 381 samples\n",
      "Epoch 1/50\n",
      "699/699 [==============================] - 1s 831us/step - loss: 0.4670 - acc: 0.8484 - val_loss: 0.4232 - val_acc: 0.8478\n",
      "Epoch 2/50\n",
      "699/699 [==============================] - 0s 176us/step - loss: 0.4326 - acc: 0.8484 - val_loss: 0.4241 - val_acc: 0.8478\n",
      "Epoch 3/50\n",
      "699/699 [==============================] - 0s 213us/step - loss: 0.4265 - acc: 0.8484 - val_loss: 0.4275 - val_acc: 0.8478\n",
      "Epoch 4/50\n",
      "699/699 [==============================] - 0s 202us/step - loss: 0.4299 - acc: 0.8484 - val_loss: 0.4227 - val_acc: 0.8478\n",
      "Epoch 5/50\n",
      "699/699 [==============================] - 0s 197us/step - loss: 0.4214 - acc: 0.8484 - val_loss: 0.4227 - val_acc: 0.8478\n",
      "Epoch 6/50\n",
      "699/699 [==============================] - 0s 185us/step - loss: 0.4285 - acc: 0.8484 - val_loss: 0.4271 - val_acc: 0.8478\n",
      "Epoch 7/50\n",
      "699/699 [==============================] - 0s 191us/step - loss: 0.4142 - acc: 0.8484 - val_loss: 0.4216 - val_acc: 0.8478\n",
      "Epoch 8/50\n",
      "699/699 [==============================] - 0s 180us/step - loss: 0.4170 - acc: 0.8484 - val_loss: 0.4219 - val_acc: 0.8478\n",
      "Epoch 9/50\n",
      "699/699 [==============================] - 0s 186us/step - loss: 0.4146 - acc: 0.8484 - val_loss: 0.4219 - val_acc: 0.8478\n",
      "Epoch 10/50\n",
      "699/699 [==============================] - 0s 254us/step - loss: 0.4067 - acc: 0.8484 - val_loss: 0.4355 - val_acc: 0.8478\n",
      "Epoch 11/50\n",
      "699/699 [==============================] - 0s 185us/step - loss: 0.4133 - acc: 0.8484 - val_loss: 0.4285 - val_acc: 0.8451\n",
      "Epoch 12/50\n",
      "699/699 [==============================] - 0s 207us/step - loss: 0.4089 - acc: 0.8484 - val_loss: 0.4381 - val_acc: 0.8478\n",
      "Epoch 13/50\n",
      "699/699 [==============================] - 0s 221us/step - loss: 0.4055 - acc: 0.8484 - val_loss: 0.4324 - val_acc: 0.8478\n",
      "Epoch 14/50\n",
      "699/699 [==============================] - 0s 290us/step - loss: 0.4041 - acc: 0.8484 - val_loss: 0.4293 - val_acc: 0.8478\n",
      "Epoch 15/50\n",
      "699/699 [==============================] - 0s 299us/step - loss: 0.4106 - acc: 0.8484 - val_loss: 0.4238 - val_acc: 0.8478\n",
      "Epoch 16/50\n",
      "699/699 [==============================] - 0s 213us/step - loss: 0.4061 - acc: 0.8484 - val_loss: 0.4445 - val_acc: 0.8478\n",
      "Epoch 17/50\n",
      "699/699 [==============================] - 0s 280us/step - loss: 0.4050 - acc: 0.8484 - val_loss: 0.4250 - val_acc: 0.8478\n",
      "Epoch 18/50\n",
      "699/699 [==============================] - 0s 285us/step - loss: 0.3942 - acc: 0.8484 - val_loss: 0.4411 - val_acc: 0.8478\n",
      "Epoch 19/50\n",
      "699/699 [==============================] - 0s 280us/step - loss: 0.3980 - acc: 0.8484 - val_loss: 0.4253 - val_acc: 0.8478\n",
      "Epoch 20/50\n",
      "699/699 [==============================] - 0s 313us/step - loss: 0.4032 - acc: 0.8484 - val_loss: 0.4278 - val_acc: 0.8478\n",
      "Epoch 21/50\n",
      "699/699 [==============================] - 0s 167us/step - loss: 0.3998 - acc: 0.8484 - val_loss: 0.4259 - val_acc: 0.8478\n",
      "Epoch 22/50\n",
      "699/699 [==============================] - 0s 257us/step - loss: 0.3869 - acc: 0.8484 - val_loss: 0.4278 - val_acc: 0.8478\n",
      "Epoch 23/50\n",
      "699/699 [==============================] - 0s 263us/step - loss: 0.4003 - acc: 0.8484 - val_loss: 0.4271 - val_acc: 0.8478\n",
      "Epoch 24/50\n",
      "699/699 [==============================] - 0s 253us/step - loss: 0.3860 - acc: 0.8484 - val_loss: 0.4325 - val_acc: 0.8478\n",
      "Epoch 25/50\n",
      "699/699 [==============================] - 0s 246us/step - loss: 0.3793 - acc: 0.8484 - val_loss: 0.4304 - val_acc: 0.8478\n",
      "Epoch 26/50\n",
      "699/699 [==============================] - 0s 186us/step - loss: 0.3761 - acc: 0.8484 - val_loss: 0.4313 - val_acc: 0.8478\n",
      "Epoch 27/50\n",
      "699/699 [==============================] - 0s 329us/step - loss: 0.3864 - acc: 0.8484 - val_loss: 0.4329 - val_acc: 0.8478\n",
      "Epoch 28/50\n",
      "699/699 [==============================] - 0s 283us/step - loss: 0.4037 - acc: 0.8484 - val_loss: 0.5939 - val_acc: 0.8478\n",
      "Epoch 29/50\n",
      "699/699 [==============================] - 0s 217us/step - loss: 0.3853 - acc: 0.8484 - val_loss: 0.4333 - val_acc: 0.8478\n",
      "Epoch 30/50\n",
      "699/699 [==============================] - 0s 152us/step - loss: 0.3635 - acc: 0.8484 - val_loss: 0.4776 - val_acc: 0.8478\n",
      "Epoch 31/50\n",
      "699/699 [==============================] - 0s 154us/step - loss: 0.3741 - acc: 0.8484 - val_loss: 0.4870 - val_acc: 0.8478\n",
      "Epoch 32/50\n",
      "699/699 [==============================] - 0s 160us/step - loss: 0.3705 - acc: 0.8484 - val_loss: 0.4421 - val_acc: 0.8478\n",
      "Epoch 33/50\n",
      "699/699 [==============================] - 0s 324us/step - loss: 0.3702 - acc: 0.8484 - val_loss: 0.4394 - val_acc: 0.8478\n",
      "Epoch 34/50\n",
      "699/699 [==============================] - 0s 297us/step - loss: 0.3780 - acc: 0.8484 - val_loss: 0.4752 - val_acc: 0.8478\n",
      "Epoch 35/50\n",
      "699/699 [==============================] - 0s 220us/step - loss: 0.3885 - acc: 0.8484 - val_loss: 0.4632 - val_acc: 0.8478\n",
      "Epoch 36/50\n",
      "699/699 [==============================] - 0s 165us/step - loss: 0.3654 - acc: 0.8484 - val_loss: 0.4422 - val_acc: 0.8478\n",
      "Epoch 37/50\n",
      "699/699 [==============================] - 0s 172us/step - loss: 0.3610 - acc: 0.8484 - val_loss: 0.4619 - val_acc: 0.8478\n",
      "Epoch 38/50\n",
      "699/699 [==============================] - 0s 155us/step - loss: 0.3668 - acc: 0.8484 - val_loss: 0.4477 - val_acc: 0.8478\n",
      "Epoch 39/50\n",
      "699/699 [==============================] - 0s 323us/step - loss: 0.3588 - acc: 0.8484 - val_loss: 0.4452 - val_acc: 0.8478\n",
      "Epoch 40/50\n",
      "699/699 [==============================] - 0s 279us/step - loss: 0.3665 - acc: 0.8484 - val_loss: 0.4473 - val_acc: 0.8478\n",
      "Epoch 41/50\n",
      "699/699 [==============================] - 0s 296us/step - loss: 0.3581 - acc: 0.8484 - val_loss: 0.6042 - val_acc: 0.8451\n",
      "Epoch 42/50\n",
      "699/699 [==============================] - 0s 175us/step - loss: 0.3538 - acc: 0.8484 - val_loss: 0.4472 - val_acc: 0.8478\n",
      "Epoch 43/50\n",
      "699/699 [==============================] - 0s 155us/step - loss: 0.3588 - acc: 0.8484 - val_loss: 0.4713 - val_acc: 0.8478\n",
      "Epoch 44/50\n",
      "699/699 [==============================] - 0s 157us/step - loss: 0.3566 - acc: 0.8484 - val_loss: 0.4872 - val_acc: 0.8478\n",
      "Epoch 45/50\n",
      "699/699 [==============================] - 0s 260us/step - loss: 0.3537 - acc: 0.8484 - val_loss: 0.4511 - val_acc: 0.8478\n",
      "Epoch 46/50\n",
      "699/699 [==============================] - 0s 288us/step - loss: 0.3373 - acc: 0.8484 - val_loss: 0.5630 - val_acc: 0.8478\n",
      "Epoch 47/50\n",
      "699/699 [==============================] - 0s 246us/step - loss: 0.3448 - acc: 0.8484 - val_loss: 0.5146 - val_acc: 0.8478\n",
      "Epoch 48/50\n",
      "699/699 [==============================] - 0s 184us/step - loss: 0.3580 - acc: 0.8484 - val_loss: 0.4489 - val_acc: 0.8478\n",
      "Epoch 49/50\n",
      "699/699 [==============================] - 0s 278us/step - loss: 0.3345 - acc: 0.8484 - val_loss: 0.5128 - val_acc: 0.8478\n",
      "Epoch 50/50\n",
      "699/699 [==============================] - 0s 258us/step - loss: 0.3564 - acc: 0.8484 - val_loss: 0.4522 - val_acc: 0.8478\n"
     ]
    }
   ],
   "source": [
    "model.compile(optimizer='sgd',\n",
    "              loss='binary_crossentropy',\n",
    "              metrics=['accuracy'])\n",
    "\n",
    "histoire = model.fit(train_img,\n",
    "                    train_y,\n",
    "                    epochs=50,\n",
    "                    batch_size=32,\n",
    "                    validation_data=(val_img, val_y))"
   ]
  },
  {
   "cell_type": "code",
   "execution_count": 20,
   "metadata": {},
   "outputs": [
    {
     "name": "stdout",
     "output_type": "stream",
     "text": [
      "699/699 [==============================] - 0s 64us/step\n"
     ]
    }
   ],
   "source": [
    "results_train = model.evaluate(train_img, train_y)"
   ]
  },
  {
   "cell_type": "code",
   "execution_count": 21,
   "metadata": {},
   "outputs": [
    {
     "name": "stdout",
     "output_type": "stream",
     "text": [
      "191/191 [==============================] - 0s 74us/step\n"
     ]
    }
   ],
   "source": [
    "results_test = model.evaluate(test_img, test_y)"
   ]
  },
  {
   "cell_type": "code",
   "execution_count": 22,
   "metadata": {},
   "outputs": [
    {
     "data": {
      "text/plain": [
       "[0.3046790217295907, 0.848354793072429]"
      ]
     },
     "execution_count": 22,
     "metadata": {},
     "output_type": "execute_result"
    }
   ],
   "source": [
    "results_train"
   ]
  },
  {
   "cell_type": "code",
   "execution_count": 23,
   "metadata": {},
   "outputs": [
    {
     "data": {
      "text/plain": [
       "[0.44814357457984805, 0.8481675405152805]"
      ]
     },
     "execution_count": 23,
     "metadata": {},
     "output_type": "execute_result"
    }
   ],
   "source": [
    "results_test"
   ]
  },
  {
   "cell_type": "code",
   "execution_count": 24,
   "metadata": {},
   "outputs": [],
   "source": [
    "# Covnet\n",
    "\n",
    "model = models.Sequential()\n",
    "model.add(layers.Conv2D(32, (3, 3), activation='relu',\n",
    "                        input_shape=(64 ,64,  3)))\n",
    "model.add(layers.MaxPooling2D((2, 2)))\n",
    "\n",
    "model.add(layers.Conv2D(32, (4, 4), activation='relu'))\n",
    "model.add(layers.MaxPooling2D((2, 2)))\n",
    "\n",
    "model.add(layers.Conv2D(64, (3, 3), activation='relu'))\n",
    "model.add(layers.MaxPooling2D((2, 2)))\n",
    "\n",
    "model.add(layers.Flatten())\n",
    "model.add(layers.Dense(64, activation='relu'))\n",
    "model.add(layers.Dense(1, activation='sigmoid'))\n",
    "\n",
    "model.compile(loss='binary_crossentropy',\n",
    "              optimizer=\"sgd\",\n",
    "              metrics=['acc'])"
   ]
  },
  {
   "cell_type": "code",
   "execution_count": 25,
   "metadata": {},
   "outputs": [
    {
     "name": "stdout",
     "output_type": "stream",
     "text": [
      "Train on 699 samples, validate on 381 samples\n",
      "Epoch 1/30\n",
      "699/699 [==============================] - 8s 11ms/step - loss: 0.5151 - acc: 0.8398 - val_loss: 0.4261 - val_acc: 0.8478\n",
      "Epoch 2/30\n",
      "699/699 [==============================] - 6s 9ms/step - loss: 0.4231 - acc: 0.8484 - val_loss: 0.4252 - val_acc: 0.8478\n",
      "Epoch 3/30\n",
      "699/699 [==============================] - 6s 9ms/step - loss: 0.4228 - acc: 0.8484 - val_loss: 0.4225 - val_acc: 0.8478\n",
      "Epoch 4/30\n",
      "699/699 [==============================] - 7s 10ms/step - loss: 0.4223 - acc: 0.8484 - val_loss: 0.4222 - val_acc: 0.8478\n",
      "Epoch 5/30\n",
      "699/699 [==============================] - 7s 10ms/step - loss: 0.4221 - acc: 0.8484 - val_loss: 0.4224 - val_acc: 0.8478\n",
      "Epoch 6/30\n",
      "699/699 [==============================] - 7s 10ms/step - loss: 0.4215 - acc: 0.8484 - val_loss: 0.4222 - val_acc: 0.8478\n",
      "Epoch 7/30\n",
      "699/699 [==============================] - 6s 9ms/step - loss: 0.4208 - acc: 0.8484 - val_loss: 0.4264 - val_acc: 0.8478\n",
      "Epoch 8/30\n",
      "699/699 [==============================] - 6s 9ms/step - loss: 0.4213 - acc: 0.8484 - val_loss: 0.4234 - val_acc: 0.8478\n",
      "Epoch 9/30\n",
      "699/699 [==============================] - 6s 9ms/step - loss: 0.4203 - acc: 0.8484 - val_loss: 0.4225 - val_acc: 0.8478\n",
      "Epoch 10/30\n",
      "699/699 [==============================] - 7s 10ms/step - loss: 0.4205 - acc: 0.8484 - val_loss: 0.4226 - val_acc: 0.8478\n",
      "Epoch 11/30\n",
      "699/699 [==============================] - 6s 9ms/step - loss: 0.4222 - acc: 0.8484 - val_loss: 0.4226 - val_acc: 0.8478\n",
      "Epoch 12/30\n",
      "699/699 [==============================] - 7s 9ms/step - loss: 0.4195 - acc: 0.8484 - val_loss: 0.4236 - val_acc: 0.8478\n",
      "Epoch 13/30\n",
      "699/699 [==============================] - 6s 8ms/step - loss: 0.4215 - acc: 0.8484 - val_loss: 0.4233 - val_acc: 0.8478\n",
      "Epoch 14/30\n",
      "699/699 [==============================] - 6s 8ms/step - loss: 0.4222 - acc: 0.8484 - val_loss: 0.4226 - val_acc: 0.8478\n",
      "Epoch 15/30\n",
      "699/699 [==============================] - 7s 9ms/step - loss: 0.4195 - acc: 0.8484 - val_loss: 0.4225 - val_acc: 0.8478\n",
      "Epoch 16/30\n",
      "699/699 [==============================] - 6s 8ms/step - loss: 0.4199 - acc: 0.8484 - val_loss: 0.4231 - val_acc: 0.8478\n",
      "Epoch 17/30\n",
      "699/699 [==============================] - 6s 9ms/step - loss: 0.4208 - acc: 0.8484 - val_loss: 0.4227 - val_acc: 0.8478\n",
      "Epoch 18/30\n",
      "699/699 [==============================] - 7s 11ms/step - loss: 0.4194 - acc: 0.8484 - val_loss: 0.4228 - val_acc: 0.8478\n",
      "Epoch 19/30\n",
      "699/699 [==============================] - 6s 8ms/step - loss: 0.4185 - acc: 0.8484 - val_loss: 0.4225 - val_acc: 0.8478\n",
      "Epoch 20/30\n",
      "699/699 [==============================] - 5s 7ms/step - loss: 0.4192 - acc: 0.8484 - val_loss: 0.4240 - val_acc: 0.8478\n",
      "Epoch 21/30\n",
      "699/699 [==============================] - 5s 7ms/step - loss: 0.4172 - acc: 0.8484 - val_loss: 0.4261 - val_acc: 0.8478\n",
      "Epoch 22/30\n",
      "699/699 [==============================] - 5s 7ms/step - loss: 0.4190 - acc: 0.8484 - val_loss: 0.4279 - val_acc: 0.8478\n",
      "Epoch 23/30\n",
      "699/699 [==============================] - 5s 7ms/step - loss: 0.4196 - acc: 0.8484 - val_loss: 0.4257 - val_acc: 0.8478\n",
      "Epoch 24/30\n",
      "699/699 [==============================] - 5s 7ms/step - loss: 0.4186 - acc: 0.8484 - val_loss: 0.4271 - val_acc: 0.8478\n",
      "Epoch 25/30\n",
      "699/699 [==============================] - 5s 7ms/step - loss: 0.4196 - acc: 0.8484 - val_loss: 0.4239 - val_acc: 0.8478\n",
      "Epoch 26/30\n",
      "699/699 [==============================] - 6s 9ms/step - loss: 0.4168 - acc: 0.8484 - val_loss: 0.4237 - val_acc: 0.8478\n",
      "Epoch 27/30\n",
      "699/699 [==============================] - 6s 9ms/step - loss: 0.4184 - acc: 0.8484 - val_loss: 0.4225 - val_acc: 0.8478\n",
      "Epoch 28/30\n",
      "699/699 [==============================] - 7s 10ms/step - loss: 0.4175 - acc: 0.8484 - val_loss: 0.4236 - val_acc: 0.8478\n",
      "Epoch 29/30\n",
      "699/699 [==============================] - 5s 8ms/step - loss: 0.4164 - acc: 0.8484 - val_loss: 0.4227 - val_acc: 0.8478\n",
      "Epoch 30/30\n",
      "699/699 [==============================] - 5s 7ms/step - loss: 0.4171 - acc: 0.8484 - val_loss: 0.4276 - val_acc: 0.8478\n"
     ]
    }
   ],
   "source": [
    "history = model.fit(train_images,\n",
    "                    train_y,\n",
    "                    epochs=30,\n",
    "                    batch_size=32,\n",
    "                    validation_data=(val_images, val_y))"
   ]
  },
  {
   "cell_type": "code",
   "execution_count": 26,
   "metadata": {},
   "outputs": [
    {
     "name": "stdout",
     "output_type": "stream",
     "text": [
      "699/699 [==============================] - 2s 2ms/step\n",
      "191/191 [==============================] - 0s 3ms/step\n"
     ]
    }
   ],
   "source": [
    "results_train = model.evaluate(train_images, train_y)\n",
    "results_test = model.evaluate(test_images, test_y)"
   ]
  },
  {
   "cell_type": "code",
   "execution_count": 27,
   "metadata": {},
   "outputs": [
    {
     "data": {
      "text/plain": [
       "[0.41898523482130323, 0.848354793072429]"
      ]
     },
     "execution_count": 27,
     "metadata": {},
     "output_type": "execute_result"
    }
   ],
   "source": [
    "results_train"
   ]
  },
  {
   "cell_type": "code",
   "execution_count": 28,
   "metadata": {},
   "outputs": [
    {
     "data": {
      "text/plain": [
       "[0.4150706077121315, 0.8481675405152805]"
      ]
     },
     "execution_count": 28,
     "metadata": {},
     "output_type": "execute_result"
    }
   ],
   "source": [
    "results_test"
   ]
  },
  {
   "cell_type": "code",
   "execution_count": null,
   "metadata": {},
   "outputs": [],
   "source": []
  }
 ],
 "metadata": {
  "kernelspec": {
   "display_name": "Python 3",
   "language": "python",
   "name": "python3"
  },
  "language_info": {
   "codemirror_mode": {
    "name": "ipython",
    "version": 3
   },
   "file_extension": ".py",
   "mimetype": "text/x-python",
   "name": "python",
   "nbconvert_exporter": "python",
   "pygments_lexer": "ipython3",
   "version": "3.6.5"
  },
  "toc": {
   "base_numbering": 1,
   "nav_menu": {},
   "number_sections": true,
   "sideBar": true,
   "skip_h1_title": false,
   "title_cell": "Table of Contents",
   "title_sidebar": "Contents",
   "toc_cell": false,
   "toc_position": {},
   "toc_section_display": true,
   "toc_window_display": false
  }
 },
 "nbformat": 4,
 "nbformat_minor": 2
}
